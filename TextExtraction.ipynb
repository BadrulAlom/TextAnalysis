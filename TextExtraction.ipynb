{
 "cells": [
  {
   "cell_type": "markdown",
   "metadata": {},
   "source": [
    "\n",
    "# 1) Topic extraction with Non-negative Matrix Factorization and Latent Dirichlet Allocation\n",
    "\n",
    "\n",
    "This is an example of applying :class:`sklearn.decomposition.NMF` and\n",
    ":class:`sklearn.decomposition.LatentDirichletAllocation` on a corpus\n",
    "of documents and extract additive models of the topic structure of the\n",
    "corpus.  The output is a list of topics, each represented as a list of\n",
    "terms (weights are not shown).\n",
    "\n",
    "Non-negative Matrix Factorization is applied with two different objective\n",
    "functions: the Frobenius norm, and the generalized Kullback-Leibler divergence.\n",
    "The latter is equivalent to Probabilistic Latent Semantic Indexing.\n",
    "\n",
    "The default parameters (n_samples / n_features / n_components) should make\n",
    "the example runnable in a couple of tens of seconds. You can try to\n",
    "increase the dimensions of the problem, but be aware that the time\n",
    "complexity is polynomial in NMF. In LDA, the time complexity is\n",
    "proportional to (n_samples * iterations).\n",
    "\n",
    "\n",
    "Source: http://scikit-learn.org/stable/auto_examples/applications/plot_topics_extraction_with_nmf_lda.html\n"
   ]
  },
  {
   "cell_type": "markdown",
   "metadata": {},
   "source": [
    "#### Set paths"
   ]
  },
  {
   "cell_type": "code",
   "execution_count": 5,
   "metadata": {
    "collapsed": true
   },
   "outputs": [],
   "source": [
    "%matplotlib inline\n",
    "root = \"C:/Users/Badrul/Documents/DataScience/TextAnalysis\"\n",
    "rawDataPath = root + \"/Data/RawData/PubMed\"\n",
    "dictPath = root + \"/Data/tmp/datadictionary.dict\"\n",
    "corpusPath = root + \"/Data/tmp/corpus.mm\"\n",
    "saveModelPath = root + \"/Data/savedmodels\""
   ]
  },
  {
   "cell_type": "markdown",
   "metadata": {},
   "source": [
    "#### Import Libraries"
   ]
  },
  {
   "cell_type": "code",
   "execution_count": 6,
   "metadata": {
    "collapsed": true
   },
   "outputs": [],
   "source": [
    "import pickle  # Used for saving models\n",
    "from sklearn.datasets import load_files\n",
    "from __future__ import print_function\n",
    "from time import time\n",
    "\n",
    "from sklearn.feature_extraction.text import TfidfVectorizer, CountVectorizer\n",
    "from sklearn.decomposition import NMF, LatentDirichletAllocation"
   ]
  },
  {
   "cell_type": "code",
   "execution_count": 7,
   "metadata": {
    "collapsed": true
   },
   "outputs": [],
   "source": [
    "# Parameters\n",
    "n_features = 1000\n",
    "n_components = 10\n",
    "n_top_words = 20\n",
    "no_topics = 20 "
   ]
  },
  {
   "cell_type": "markdown",
   "metadata": {},
   "source": [
    "#### Load Dataset from folder"
   ]
  },
  {
   "cell_type": "code",
   "execution_count": 8,
   "metadata": {},
   "outputs": [
    {
     "name": "stdout",
     "output_type": "stream",
     "text": [
      "Loading dataset...\n",
      "done in 0.000s.\n"
     ]
    }
   ],
   "source": [
    "TrainDataset = load_files(rawDataPath,description= None,load_content = True, \n",
    "                           encoding='latin1', decode_error='strict', shuffle=True, \n",
    "                           random_state=42)\n",
    "#text_test_subset = text_train_subset # load your actual test data here\n",
    "\n",
    "print(\"Loading dataset...\")\n",
    "t0 = time()\n",
    "#dataset = fetch_20newsgroups(shuffle=True, random_state=1,\n",
    "#                            remove=('headers', 'footers', 'quotes'))\n",
    "data_samples = TrainDataset.data\n",
    "print(\"done in %0.3fs.\" % (time() - t0))"
   ]
  },
  {
   "cell_type": "markdown",
   "metadata": {},
   "source": [
    "#### Convert text to vectors using tfid"
   ]
  },
  {
   "cell_type": "code",
   "execution_count": 5,
   "metadata": {},
   "outputs": [
    {
     "name": "stdout",
     "output_type": "stream",
     "text": [
      "Extracting tf-idf features for NMF...\n",
      "done in 0.010s.\n",
      "Extracting tf features for LDA...\n",
      "done in 0.008s.\n"
     ]
    }
   ],
   "source": [
    "print(\"Extracting tf-idf features for NMF...\")\n",
    "\n",
    "# max_df: Build a vocabulary that only consider the top max_features ordered by term frequency across the corpus.\n",
    "# min_df: When building the vocabulary ignore terms that have a document frequency strictly lower than the given threshold\n",
    "\n",
    "tfidf_vectorizer = TfidfVectorizer(max_df=0.95, min_df=2,\n",
    "                                   max_features=n_features,\n",
    "                                   stop_words='english')\n",
    "t0 = time()\n",
    "# NMF is able to use tf-idf\n",
    "tfidf = tfidf_vectorizer.fit_transform(data_samples)\n",
    "tfidf_feature_names_nmf = tfidf_vectorizer.get_feature_names()\n",
    "print(\"done in %0.3fs.\" % (time() - t0))\n",
    "\n",
    "# LDA can only use raw term counts for LDA because it is a probabilistic graphical model\n",
    "print(\"Extracting tf features for LDA...\")\n",
    "tf_vectorizer = CountVectorizer(max_df=0.95, min_df=2,\n",
    "                                max_features=n_features,\n",
    "                                stop_words='english')\n",
    "t0 = time()\n",
    "tf = tf_vectorizer.fit_transform(data_samples[0:-2])\n",
    "tf_feature_names_lda = tf_vectorizer.get_feature_names()\n",
    "print(\"done in %0.3fs.\" % (time() - t0))\n",
    "\n",
    "\n"
   ]
  },
  {
   "cell_type": "code",
   "execution_count": 6,
   "metadata": {
    "collapsed": true
   },
   "outputs": [],
   "source": [
    "def print_top_words(model, feature_names, n_top_words):\n",
    "    for topic_idx, topic in enumerate(model.components_):\n",
    "        message = \"Topic #%d: \" % topic_idx\n",
    "        message += \" \".join([feature_names[i]\n",
    "                             for i in topic.argsort()[:-n_top_words - 1:-1]])\n",
    "        print(message)\n",
    "    print()\n",
    "\n",
    "\n",
    "def display_topics(H, W, feature_names, documents, no_top_words, no_top_documents):\n",
    "\n",
    "    for topic_idx, topic in enumerate(H):\n",
    "        print (\"Topic %d:\" % (topic_idx))\n",
    "        print (\" \".join([feature_names[i]\n",
    "                        for i in topic.argsort()[:-no_top_words - 1:-1]]))\n",
    "\n",
    "        top_doc_indices = np.argsort( W[:,topic_idx] )[::-1][0:no_top_documents]\n",
    "\n",
    "        for doc_index in top_doc_indices:\n",
    "            print (documents[doc_index])"
   ]
  },
  {
   "cell_type": "markdown",
   "metadata": {},
   "source": [
    "#### NMF Method"
   ]
  },
  {
   "cell_type": "code",
   "execution_count": 7,
   "metadata": {},
   "outputs": [
    {
     "name": "stdout",
     "output_type": "stream",
     "text": [
      "Fitting the NMF model (Frobenius norm) with tf-idf features. n_features=%d...\n",
      "Fitting the NMF model (generalized Kullback-Leibler divergence) with tf-idf features n_features=%d...\n"
     ]
    }
   ],
   "source": [
    "# if you wish to time each stage use this code:\n",
    "#t0 = time()\n",
    "#print(\"done in %0.3fs.\" % (time() - t0))\n",
    "\n",
    "# NMF model 1\n",
    "print(\"Fitting the NMF model (Frobenius norm) with tf-idf features. n_features=%d...\".format(n_features))\n",
    "nmf1 = NMF(n_components=n_components, random_state=1,alpha=.1, l1_ratio=.5).fit(tfidf)\n",
    "\n",
    "# NMF model 2\n",
    "print(\"Fitting the NMF model (generalized Kullback-Leibler divergence) with tf-idf features n_features=%d...\".format(n_features))\n",
    "nmf2 = NMF(n_components=n_components, random_state=1, beta_loss='kullback-leibler', solver='mu', max_iter=1000, alpha=.1,l1_ratio=.5).fit(tfidf)\n",
    "\n",
    "# NMF Model 3\n",
    "nmf3 = NMF(n_components=no_topics, random_state=1, alpha=.1, l1_ratio=.5, init='nndsvd').fit(tfidf)\n"
   ]
  },
  {
   "cell_type": "markdown",
   "metadata": {},
   "source": [
    "#### LDA Method"
   ]
  },
  {
   "cell_type": "code",
   "execution_count": 9,
   "metadata": {},
   "outputs": [
    {
     "name": "stdout",
     "output_type": "stream",
     "text": [
      "Fitting LDA models with tf features,  n_features=%d...\n"
     ]
    },
    {
     "data": {
      "text/plain": [
       "LatentDirichletAllocation(batch_size=128, doc_topic_prior=None,\n",
       "             evaluate_every=-1, learning_decay=0.7,\n",
       "             learning_method='online', learning_offset=50.0,\n",
       "             max_doc_update_iter=100, max_iter=5, mean_change_tol=0.001,\n",
       "             n_components=10, n_jobs=1, n_topics=None, perp_tol=0.1,\n",
       "             random_state=0, topic_word_prior=None,\n",
       "             total_samples=1000000.0, verbose=0)"
      ]
     },
     "execution_count": 9,
     "metadata": {},
     "output_type": "execute_result"
    }
   ],
   "source": [
    "# LDA 1\n",
    "print(\"Fitting LDA models with tf features, \"\n",
    "      \" n_features=%d...\".format(n_features))\n",
    "lda = LatentDirichletAllocation(n_components=n_components, max_iter=5,\n",
    "                                learning_method='online',\n",
    "                                learning_offset=50.,\n",
    "                                random_state=0)\n",
    "lda.fit(tf)"
   ]
  },
  {
   "cell_type": "markdown",
   "metadata": {},
   "source": [
    "#### Display Results"
   ]
  },
  {
   "cell_type": "code",
   "execution_count": 10,
   "metadata": {},
   "outputs": [
    {
     "name": "stdout",
     "output_type": "stream",
     "text": [
      "\n",
      "Topics in NMF model 1:\n",
      "Topic #0: attributes stringelement label nlmcategory patients methods treatment results conclusions study stage line phase ii survival adjuvant cost treated months objective\n",
      "Topic #1: cells cell differentiation regulatory stem expression kinase inhibitors protein bcl induced cancer therapies complex short targeted essential p21 combination transcription\n",
      "Topic #2: cancer expression patients analysis 95 prognostic ci prognosis serum hr value metastasis level mir testing breast survival meta os 485\n",
      "Topic #3: replication dna knockdown machinery chromosomal growth development drosophila factors phenotype loss essential cells involved tissues independent specific amplification gene particular\n",
      "Topic #4: palliative care population hospice development countries european differences mortality early services rates gained evidence role medicine model negatively purpose conditions\n",
      "Topic #5: hpv cervical viral transcriptional infection expression factors mir promoter carcinogenesis transcription review therapeutic regulatory region differentially expressed micrornas require various\n",
      "Topic #6: u200a vs radiotherapy patients 01 meta year cancer analysis criteria based therapies mortality 30 curative sensitivity 26 studies groups test\n",
      "Topic #7: hpv lesions stages lead pre infection women development therapeutic clinical cervix organized 20 approaches research chances sexually formulations genders challenge\n",
      "Topic #8: response infection 2017 interferon microbial radiation genes reserved elsevier rights copyright improved science et individual resulting copyrightinformation increases limited immune\n",
      "Topic #9: new pain therapeutic treatment ionizing target non cancer options tumor medicine cancers novel history treat fields limited use generation drugs\n",
      "\n",
      "\n",
      "Topics in LDA model:\n",
      "Topic #0: treatment cancer new non tumor therapeutic method reductions target ionizing large probability options different effective generation use discovery findings treat\n",
      "Topic #1: serum response mir genes radiation 485 prognostic independent level patients transcriptional dependent signaling 12 volunteers environmental induced small levels dna\n",
      "Topic #2: replication factors dna gene specific recurrence knockdown chromosomal genes bone development metastasis genomic hr derived patients 95 ci dfs involved\n",
      "Topic #3: differences care development liver palliative countries european responses social gender immune model testing mechanisms evidence underlying hospice medicine diseases patients\n",
      "Topic #4: hpv new therapeutic pain carcinoma health infection recent review cancer tumors studies human therapy patients salivary special present expression role\n",
      "Topic #5: patients cell cancer cells combination population scores expression study treatment analysis results stringelement observed survival bcl control ovarian line surgery\n",
      "Topic #6: 022 determine mucinous conditions predict stages gastrointestinal discovery organized hazard quality low oophorectomy reported space neoplasms integrated challenge interventions eligible\n",
      "Topic #7: patients cancer nlmcategory attributes label stringelement u200a results vs survival methods expression conclusions treatment cells study analysis ii testing disease\n",
      "Topic #8: label nlmcategory stringelement attributes patients results methods conclusions cancer treatment malignant cost metastasis group patient study 10 pancreatic background survival\n",
      "Topic #9: 2017 response infection microbial et copyright type limited science reserved immune elsevier copyrightinformation study volunteers resulting rights recent improved especially\n",
      "\n"
     ]
    }
   ],
   "source": [
    "\n",
    "no_top_words = 10\n",
    "#display_topics(nmf1, tfidf_feature_names_nmf, no_top_words)\n",
    "#display_topics(lda, tf_feature_names_lda, no_top_words)\n",
    "\n",
    "print(\"\\nTopics in NMF model 1:\")\n",
    "print_top_words(nmf1, tfidf_feature_names_nmf, n_top_words)\n",
    "\n",
    "print(\"\\nTopics in LDA model:\")\n",
    "print_top_words(lda, tf_feature_names_lda, n_top_words)"
   ]
  },
  {
   "cell_type": "markdown",
   "metadata": {},
   "source": [
    "#### Save Models"
   ]
  },
  {
   "cell_type": "code",
   "execution_count": 13,
   "metadata": {
    "collapsed": true
   },
   "outputs": [],
   "source": [
    "# Save model\n",
    "#s = pickle.dumps(lda)\n",
    "pickle.dump(lda, open( saveModelPath+ \"/lda.p\", \"wb\" ) )\n",
    "pickle.dump(nmf1, open( saveModelPath+ \"/nmf.p\", \"wb\" ) )\n"
   ]
  },
  {
   "cell_type": "markdown",
   "metadata": {},
   "source": [
    "### Use model to predict topic of new documents (in development)"
   ]
  },
  {
   "cell_type": "code",
   "execution_count": null,
   "metadata": {
    "collapsed": true
   },
   "outputs": [],
   "source": [
    "# predict topics for test data\n",
    "# unnormalized doc-topic distribution\n",
    "import numpy as np\n",
    "\n",
    "\n",
    "tf = tf_vectorizer.fit_transform(data_samples)\n",
    "tf_feature_names_lda = tf_vectorizer.get_feature_names()\n",
    "\n",
    "doc_topic_dist_unnormalized = np.matrix(lda.transform(tf))\n",
    "\n",
    "# normalize the distribution (only needed if you want to work with the probabilities)\n",
    "doc_topic_dist = doc_topic_dist_unnormalized/doc_topic_dist_unnormalized.sum(axis=1)\n",
    "doc_topic_dist.argmax(axis=1)\n",
    "# print(tf_feature_names_lda)"
   ]
  },
  {
   "cell_type": "markdown",
   "metadata": {},
   "source": [
    "## 2) Named Entity Recognition"
   ]
  },
  {
   "cell_type": "markdown",
   "metadata": {},
   "source": [
    "http://www.nltk.org/book/ch07.html"
   ]
  },
  {
   "cell_type": "code",
   "execution_count": null,
   "metadata": {},
   "outputs": [],
   "source": [
    "import nltk  # http://www.nltk.org/install.html\n",
    "\n",
    "print(nltk.ne_chunk(data_samples[0], binary=True)) "
   ]
  },
  {
   "cell_type": "markdown",
   "metadata": {},
   "source": [
    "## 3) Twitter"
   ]
  },
  {
   "cell_type": "code",
   "execution_count": 1,
   "metadata": {},
   "outputs": [],
   "source": [
    "# Run pip install python-twitter\n",
    "import twitter\n",
    "#, OAuth, TwitterHTTPError\n",
    "\n",
    "access_token_key=\"1031692224-PR1zGCQ6OksO1YrvdBcgmIpBMsiYeccrbXlmg8n\"\n",
    "access_token_secret=\"RI5CEEsrlX0qsTa1W34TLiPH9lYWmQrmVdQqUoYR6ANjT\"\n",
    "consumer_key=\"8DYqTuDnBfXEdcG71ZcRE0RQ8\"\n",
    "consumer_secret=\"PjF3EebGTRaRTWs1vmjGMcWpEK0OEk1g3fykQutEo6oUK6BaqS\"\n",
    "\n",
    "bot = twitter.Api(consumer_key,consumer_secret,access_token_key,access_token_secret)"
   ]
  },
  {
   "cell_type": "code",
   "execution_count": 15,
   "metadata": {},
   "outputs": [],
   "source": [
    "results = bot.GetSearch(\n",
    "    raw_query=\"q=oncology%20startup&result_type=recent&since=2014-07-19&count=100\")\n"
   ]
  },
  {
   "cell_type": "code",
   "execution_count": 17,
   "metadata": {},
   "outputs": [
    {
     "name": "stdout",
     "output_type": "stream",
     "text": [
      "{\"created_at\": \"Sun Sep 24 00:22:52 +0000 2017\", \"favorite_count\": 1, \"hashtags\": [{\"text\": \"Cancer\"}, {\"text\": \"Startup\"}], \"id\": 911747728765476864, \"id_str\": \"911747728765476864\", \"lang\": \"en\", \"source\": \"<a href=\\\"https://dlvrit.com/\\\" rel=\\\"nofollow\\\">dlvr.it</a>\", \"text\": \"Rosemarie Truman: Freedom from #Cancer #Startup Challenge is Open for Entry! Join today\\u2026 https://t.co/ZTqpDtcExY\\u2026 https://t.co/ENssqS5IT1\", \"truncated\": true, \"urls\": [{\"expanded_url\": \"http://dlvr.it/Pq1vkj\", \"url\": \"https://t.co/ZTqpDtcExY\"}, {\"expanded_url\": \"https://twitter.com/i/web/status/911747728765476864\", \"url\": \"https://t.co/ENssqS5IT1\"}], \"user\": {\"created_at\": \"Thu Jul 07 11:49:16 +0000 2016\", \"default_profile\": true, \"description\": \"MedicBoard for Oncology specialists\", \"followers_count\": 665, \"id\": 751020252247519232, \"lang\": \"en\", \"listed_count\": 314, \"name\": \"Oncology Board\", \"profile_background_color\": \"F5F8FA\", \"profile_banner_url\": \"https://pbs.twimg.com/profile_banners/751020252247519232/1467892325\", \"profile_image_url\": \"http://pbs.twimg.com/profile_images/751020873184935936/zNVXlTcR_normal.jpg\", \"profile_link_color\": \"1DA1F2\", \"profile_sidebar_fill_color\": \"DDEEF6\", \"profile_text_color\": \"333333\", \"screen_name\": \"mb_Oncology\", \"statuses_count\": 33320, \"time_zone\": \"UTC\", \"url\": \"https://t.co/tTDg8WeqiE\"}, \"user_mentions\": []}\n"
     ]
    }
   ],
   "source": [
    "print(results[0]) # Example of 1 result"
   ]
  },
  {
   "cell_type": "code",
   "execution_count": null,
   "metadata": {
    "collapsed": true
   },
   "outputs": [],
   "source": []
  }
 ],
 "metadata": {
  "kernelspec": {
   "display_name": "Python 3",
   "language": "python",
   "name": "python3"
  },
  "language_info": {
   "codemirror_mode": {
    "name": "ipython",
    "version": 3
   },
   "file_extension": ".py",
   "mimetype": "text/x-python",
   "name": "python",
   "nbconvert_exporter": "python",
   "pygments_lexer": "ipython3",
   "version": "3.6.1"
  }
 },
 "nbformat": 4,
 "nbformat_minor": 1
}
