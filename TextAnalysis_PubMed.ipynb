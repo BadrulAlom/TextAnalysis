{
 "cells": [
  {
   "cell_type": "markdown",
   "metadata": {},
   "source": [
    "### Proof of Concept"
   ]
  },
  {
   "cell_type": "code",
   "execution_count": 39,
   "metadata": {},
   "outputs": [
    {
     "name": "stdout",
     "output_type": "stream",
     "text": [
      "C:/Users/Badrul/Documents/DataScience/TextAnalysis/Data/RawData/current-situation-of-palliative-care-in-hungary-integrated-palliative-care-model-as-a-breakout-possibilitytxt\n",
      "\n",
      "\n",
      "C:/Users/Badrul/Documents/DataScience/TextAnalysis/Data/RawData/approaching-new-pharmacotherapy-options-in-pain-treatmenttxt\n",
      "\n",
      "\n",
      "C:/Users/Badrul/Documents/DataScience/TextAnalysis/Data/RawData/nutrition-therapy-of-cancer-patientstxt\n",
      "\n",
      "\n",
      "C:/Users/Badrul/Documents/DataScience/TextAnalysis/Data/RawData/low-serum-level-of-mir-485-3p-predicts-poor-survival-in-patients-with-glioblastomatxt\n",
      "\n",
      "\n",
      "C:/Users/Badrul/Documents/DataScience/TextAnalysis/Data/RawData/clinical-relevance-of-histologic-subtypes-in-locally-advanced-esophageal-carcinoma-treated-with-pre-operative-chemoradiotherapy-experience-of-a-monographic-oncologic-centretxt\n",
      "\n",
      "\n",
      "C:/Users/Badrul/Documents/DataScience/TextAnalysis/Data/RawData/the-performance-of-a-new-local-false-discovery-rate-method-on-tests-of-association-between-coronary-artery-disease-cad-and-genome-wide-genetic-variantstxt\n",
      "\n",
      "\n",
      "C:/Users/Badrul/Documents/DataScience/TextAnalysis/Data/RawData/evaluation-of-the-cytotoxicity-of-the-bithionol-paclitaxel-combination-in-a-panel-of-human-ovarian-cancer-cell-linestxt\n",
      "\n",
      "\n",
      "C:/Users/Badrul/Documents/DataScience/TextAnalysis/Data/RawData/response-to-folfirinox-by-gender-in-patients-with-metastatic-pancreatic-cancer-results-from-the-prodige-4-accord-11-randomized-trialtxt\n",
      "\n",
      "\n",
      "C:/Users/Badrul/Documents/DataScience/TextAnalysis/Data/RawData/detection-of-residual-donor-erythroid-progenitor-cells-after-hematopoietic-stem-cell-transplantation-for-patients-with-hemoglobinopathiestxt\n",
      "\n",
      "\n",
      "C:/Users/Badrul/Documents/DataScience/TextAnalysis/Data/RawData/prehospital-administration-of-freeze-dried-plasma-is-it-the-solution-for-trauma-casualtiestxt\n",
      "\n",
      "\n",
      "C:/Users/Badrul/Documents/DataScience/TextAnalysis/Data/RawData/hip-fracture-in-the-frail-elderly-making-the-case-for-early-integration-of-palliative-care-and-timely-hospice-referraltxt\n",
      "\n",
      "\n",
      "C:/Users/Badrul/Documents/DataScience/TextAnalysis/Data/RawData/next-generation-sequencing-revealed-tp53-mutations-to-be-malignant-marker-for-intraductal-papillary-mucinous-neoplasms-that-could-be-detected-using-pancreatic-juicetxt\n",
      "\n",
      "\n",
      "C:/Users/Badrul/Documents/DataScience/TextAnalysis/Data/RawData/targeted-gene-panel-sequencing-for-early-onset-inflammatory-bowel-disease-and-chronic-diarrheatxt\n",
      "\n",
      "\n",
      "C:/Users/Badrul/Documents/DataScience/TextAnalysis/Data/RawData/health-related-quality-of-life-assessment-in-surgical-patients-with-papillary-thyroid-carcinoma-a-single-center-analysis-from-mainland-chinatxt\n",
      "\n",
      "\n",
      "C:/Users/Badrul/Documents/DataScience/TextAnalysis/Data/RawData/the-curative-effects-of-radiotherapy-based-therapies-for-human-epidermal-growth-factor-receptor-2-positive-breast-cancer-a-meta-analysistxt\n",
      "\n",
      "\n",
      "C:/Users/Badrul/Documents/DataScience/TextAnalysis/Data/RawData/infective-endocarditis-in-patients-with-cancer-a-consequence-of-invasive-procedures-or-a-harbinger-of-neoplasm-a-prospective-multicenter-cohorttxt\n",
      "\n",
      "\n",
      "C:/Users/Badrul/Documents/DataScience/TextAnalysis/Data/RawData/sonographic-image-of-cervix-epithelioid-trophoblastic-tumor-coexisting-with-mucinous-adenocarcinoma-in-a-postmenopausal-woman-a-case-reporttxt\n",
      "\n",
      "\n",
      "C:/Users/Badrul/Documents/DataScience/TextAnalysis/Data/RawData/cronkhite-canada-syndrome-associated-with-colon-cancer-metastatic-to-liver-a-case-reporttxt\n",
      "\n",
      "\n",
      "C:/Users/Badrul/Documents/DataScience/TextAnalysis/Data/RawData/role-of-radiation-therapy-in-the-multidisciplinary-management-of-uterine-carcinosarcomatxt\n",
      "\n",
      "\n",
      "C:/Users/Badrul/Documents/DataScience/TextAnalysis/Data/RawData/oncological-outcomes-of-stage-ii-endometrial-cancer-a-retrospective-analysis-of-250-casestxt\n",
      "\n",
      "\n"
     ]
    }
   ],
   "source": [
    "# Full discussion:\n",
    "# https://marcobonzanini.wordpress.com/2015/01/12/searching-pubmed-with-python/\n",
    "\n",
    "from Bio import Entrez\n",
    "from IPython.core.debugger import Tracer\n",
    "import unicodedata\n",
    "import re\n",
    "\n",
    "def search(query):\n",
    "    Entrez.email = 'your.email@example.com'\n",
    "    handle = Entrez.esearch(db='pubmed', \n",
    "                            sort='date', \n",
    "                            retmax='20',\n",
    "                            retmode='xml', \n",
    "                            term=query)\n",
    "    results = Entrez.read(handle)\n",
    "    return results\n",
    "\n",
    "def fetch_details(id_list):\n",
    "    ids = ','.join(id_list)\n",
    "    Entrez.email = 'your.email@example.com'\n",
    "    handle = Entrez.efetch(db='pubmed',\n",
    "                           retmode='xml',\n",
    "                           id=ids)\n",
    "    results = Entrez.read(handle)\n",
    "    return results\n",
    "\n",
    "\n",
    "def slugify(value, allow_unicode=False):\n",
    "    value = str(value)\n",
    "\n",
    "    if allow_unicode:\n",
    "        value = unicodedata.normalize('NFKC', value)\n",
    "    else:\n",
    "\n",
    "        value = unicodedata.normalize('NFKD', value).encode('ascii', 'ignore').decode('ascii')\n",
    "    value = re.sub(r'[^\\w\\s-]', '', value).strip().lower()\n",
    "    return re.sub(r'[-\\s]+', '-', value)\n",
    "    \n",
    "dataFolder = \"C:/Users/Badrul/Documents/DataScience/TextAnalysis/Data/RawData/\"\n",
    "if __name__ == '__main__':\n",
    "    results = search('oncology')\n",
    "    id_list = results['IdList']\n",
    "    papers = fetch_details(id_list)\n",
    "    \n",
    "    # Save papers to input directory\n",
    "    for i, paper in enumerate(papers['PubmedArticle']):\n",
    "        fPath = dataFolder + slugify(str(paper['MedlineCitation']['Article']['ArticleTitle']) + 'txt')\n",
    "        print(fPath)\n",
    "        f= open(fPath,\"w+\")\n",
    "        f.write(str(paper['MedlineCitation']['Article']['Abstract']))\n",
    "        f.close()\n",
    "\n",
    "        print(\"\\n\")        \n",
    "        #print(\"%d) %s %s\" % (i+1, paper['MedlineCitation']['Article']['ArticleTitle'],paper['MedlineCitation']['Article']['Abstract']))\n",
    "    "
   ]
  },
  {
   "cell_type": "code",
   "execution_count": 26,
   "metadata": {},
   "outputs": [
    {
     "data": {
      "text/plain": [
       "Bio.Entrez.Parser.StructureElement"
      ]
     },
     "execution_count": 26,
     "metadata": {},
     "output_type": "execute_result"
    }
   ],
   "source": []
  },
  {
   "cell_type": "code",
   "execution_count": null,
   "metadata": {
    "collapsed": true
   },
   "outputs": [],
   "source": []
  }
 ],
 "metadata": {
  "kernelspec": {
   "display_name": "Python 3",
   "language": "python",
   "name": "python3"
  },
  "language_info": {
   "codemirror_mode": {
    "name": "ipython",
    "version": 3
   },
   "file_extension": ".py",
   "mimetype": "text/x-python",
   "name": "python",
   "nbconvert_exporter": "python",
   "pygments_lexer": "ipython3",
   "version": "3.6.1"
  }
 },
 "nbformat": 4,
 "nbformat_minor": 2
}
